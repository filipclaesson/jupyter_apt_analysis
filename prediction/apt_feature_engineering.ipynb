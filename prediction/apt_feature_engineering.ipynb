{
 "cells": [
  {
   "cell_type": "code",
   "execution_count": 8,
   "metadata": {},
   "outputs": [],
   "source": [
    "#import matplotlib.pyplot as plt\n",
    "#import numpy as np\n",
    "#import seaborn as sns\n",
    "#import math\n",
    "#from scipy import stats\n",
    "#print(\"imported \" + str(len(raw)) + \" rows\")\n",
    "#raw.columns.tolist()\n",
    "\n",
    "import pandas as pd\n",
    "from sklearn.model_selection import train_test_split\n",
    "from sklearn.preprocessing import Imputer\n",
    "from sklearn.metrics import mean_squared_error\n",
    "import matplotlib.pyplot as plt\n",
    "from IPython.display import HTML, display\n",
    "import tabulate\n",
    "import numpy as np\n",
    "from matplotlib import cm\n",
    "raw = pd.pandas.read_csv('../setup_data/pred_1x1_20181206.csv',sep=\",\",low_memory=False)\n",
    "\n",
    "## Functions\n",
    "\n",
    "def print_list(list_in):\n",
    "    display(HTML(tabulate.tabulate(list_in, tablefmt='html')))"
   ]
  },
  {
   "cell_type": "markdown",
   "metadata": {},
   "source": [
    "# Setup Data Set"
   ]
  },
  {
   "cell_type": "code",
   "execution_count": 95,
   "metadata": {},
   "outputs": [],
   "source": [
    "data = raw.copy()\n",
    "data['published_week_dt'] = pd.to_datetime(raw['published_week'])\n"
   ]
  },
  {
   "cell_type": "code",
   "execution_count": 34,
   "metadata": {},
   "outputs": [],
   "source": [
    "## calculate new variables\n",
    "#def rolling_avg(df,rolling_interval,variable):    \n",
    "\n",
    "intervals = ['7d','14d','28d']\n",
    "data = data[data['published'] >'2018-03-01']\n",
    "## MEAN SQM SOLD PRICE\n",
    "for interval in intervals:\n",
    "    # make copy of df and set new index\n",
    "    tmp_df = data.copy()\n",
    "    tmp_df['sold_dt'] = pd.to_datetime(tmp_df['sold_date'])\n",
    "    tmp_df = tmp_df.set_index('sold_dt')\n",
    "    \n",
    "    # create series of the variable we want to do rolling over\n",
    "    sold_price = tmp_df[['sqm_sold_price']]\n",
    "    # calculate mean per week and calculate rooling for 'rolling_interval'\n",
    "    rolling_var = sold_price.resample('W-MON').mean().sort_index().rolling(interval).mean()\n",
    "    rolling_var.columns = ['mean_sold_sqm_price_'+interval]\n",
    "    # Merge dataframes\n",
    "    data = pd.merge(data, rolling_var, left_on = 'published_week_dt', right_index=True, how = 'left')\n",
    "\n",
    "## DERIVATIVE MEAN SQM SOLD PRICE\n",
    "#for interval in intervals:\n",
    "    \n"
   ]
  },
  {
   "cell_type": "code",
   "execution_count": 130,
   "metadata": {},
   "outputs": [
    {
     "name": "stdout",
     "output_type": "stream",
     "text": [
      "85\n",
      "43\n",
      "49\n",
      "54\n",
      "52\n",
      "85\n",
      "44\n",
      "49\n",
      "54\n",
      "52\n",
      "            sqm_sold_price\n",
      "sold_dt                   \n",
      "2018-03-05              76\n",
      "2018-03-12              43\n",
      "2018-03-19              53\n",
      "2018-03-26              51\n",
      "2018-04-02              44\n",
      "2018-04-09              23\n",
      "2018-04-16              61\n",
      "2018-04-23              80\n",
      "2018-04-30              75\n",
      "2018-05-07              43\n",
      "2018-05-14              72\n",
      "2018-05-21              58\n",
      "2018-05-28              68\n",
      "               deriv\n",
      "sold_dt             \n",
      "2018-03-05 -0.394737\n",
      "2018-03-12 -0.767442\n",
      "2018-03-19  0.188679\n",
      "2018-03-26 -0.039216\n",
      "2018-04-02 -0.159091\n",
      "2018-04-09 -0.913043\n",
      "2018-04-16  0.622951\n",
      "2018-04-23  0.237500\n",
      "2018-04-30 -0.066667\n",
      "2018-05-07 -0.744186\n",
      "2018-05-14  0.402778\n",
      "2018-05-21 -0.241379\n",
      "2018-05-28  0.147059\n"
     ]
    },
    {
     "data": {
      "image/png": "[encoded data removed]",
      "text/plain": [
       "<Figure size 432x288 with 1 Axes>"
      ]
     },
     "metadata": {
      "needs_background": "light"
     },
     "output_type": "display_data"
    },
    {
     "data": {
      "image/png": "[encoded data removed]",
      "text/plain": [
       "<Figure size 432x288 with 1 Axes>"
      ]
     },
     "metadata": {
      "needs_background": "light"
     },
     "output_type": "display_data"
    }
   ],
   "source": [
    "tmp_df = data.copy()\n",
    "tmp_df['sold_dt'] = pd.to_datetime(tmp_df['sold_date'])\n",
    "tmp_df = tmp_df.set_index('sold_dt')\n",
    "# create series of the variable we want to do rolling over\n",
    "print(tmp_df['2018-02-26':'2018-03-05']['sqm_sold_price'].count())\n",
    "print(tmp_df['2018-03-05':'2018-03-11']['sqm_sold_price'].count())\n",
    "print(tmp_df['2018-03-12':'2018-03-18']['sqm_sold_price'].count())\n",
    "print(tmp_df['2018-03-19':'2018-03-25']['sqm_sold_price'].count())\n",
    "print(tmp_df['2018-03-26':'2018-04-03']['sqm_sold_price'].count())\n",
    "\n",
    "print(tmp_df['2018-02-25':'2018-03-03']['sqm_sold_price'].count())\n",
    "print(tmp_df['2018-03-04':'2018-03-10']['sqm_sold_price'].count())\n",
    "print(tmp_df['2018-03-12':'2018-03-18']['sqm_sold_price'].count())\n",
    "print(tmp_df['2018-03-19':'2018-03-25']['sqm_sold_price'].count())\n",
    "print(tmp_df['2018-03-26':'2018-04-03']['sqm_sold_price'].count())\n",
    "\n",
    "\n",
    "# calculate mean per week and calculate rooling for 'rolling_interval'\n",
    "sold_price_weekly = tmp_df[['sqm_sold_price']].resample('W-MON').count().sort_index()\n",
    "#plt.plot(sold_price_weekly.diff()/sold_price_weekly)\n",
    "deriv = sold_price_weekly.diff()/sold_price_weekly\n",
    "deriv.columns = ['deriv']\n",
    "\n",
    "#print(deriv[deriv['sold_dt'] < '2018-06-01'])\n",
    "plt.plot((sold_price_weekly['2018-03-01':'2018-04-01']))\n",
    "print(sold_price_weekly['2018-03-01':'2018-06-01'])\n",
    "print(deriv['2018-03-01':'2018-06-01'])\n",
    "plt.show()\n",
    "plt.plot(deriv['2018-03-01':'2018-04-01'])\n",
    "\n",
    "#plt.plot(sold_price_weekly)\n",
    "plt.show()\n",
    "\n",
    "\n",
    "\n"
   ]
  },
  {
   "cell_type": "code",
   "execution_count": null,
   "metadata": {},
   "outputs": [],
   "source": []
  },
  {
   "cell_type": "code",
   "execution_count": 86,
   "metadata": {},
   "outputs": [
    {
     "name": "stdout",
     "output_type": "stream",
     "text": [
      "sold_week\n",
      "2018-03-05    80769.230800\n",
      "2018-03-12    73898.851486\n",
      "2018-03-19    70614.308034\n",
      "2018-03-26    72105.613247\n",
      "2018-04-02    77047.941212\n",
      "2018-04-09    70672.124200\n",
      "2018-04-16    73143.056236\n",
      "2018-04-23    73253.005114\n",
      "2018-04-30    67739.990529\n",
      "2018-05-07    72414.906705\n",
      "2018-05-14    72071.939384\n",
      "2018-05-21    67399.942816\n",
      "2018-05-28    69530.522529\n",
      "Name: sqm_sold_price, dtype: float64\n",
      "sold_week\n",
      "2018-03-05   -0.160714\n",
      "2018-03-12   -0.092970\n",
      "2018-03-19   -0.046514\n",
      "2018-03-26    0.020682\n",
      "2018-04-02    0.064146\n",
      "2018-04-09   -0.090217\n",
      "2018-04-16    0.033782\n",
      "2018-04-23    0.001501\n",
      "2018-04-30   -0.081385\n",
      "2018-05-07    0.064557\n",
      "2018-05-14   -0.004759\n",
      "2018-05-21   -0.069318\n",
      "2018-05-28    0.030642\n",
      "Name: sqm_sold_price, dtype: float64\n"
     ]
    },
    {
     "data": {
      "image/png": "[encoded data removed]",
      "text/plain": [
       "<Figure size 432x288 with 1 Axes>"
      ]
     },
     "metadata": {
      "needs_background": "light"
     },
     "output_type": "display_data"
    },
    {
     "data": {
      "image/png": "[encoded data removed]",
      "text/plain": [
       "<Figure size 432x288 with 1 Axes>"
      ]
     },
     "metadata": {
      "needs_background": "light"
     },
     "output_type": "display_data"
    }
   ],
   "source": [
    "tmp_df = data.copy()\n",
    "tmp_df['sold_dt'] = pd.to_datetime(tmp_df['sold_date'])\n",
    "tmp_df = tmp_df.set_index('sold_dt')\n",
    "# group the data and calculate the derivative\n",
    "group_by = data_w_feature.groupby(['sold_week'])['sqm_sold_price'].mean()\n",
    "deriv = group_by.diff()/group_by\n",
    "\n",
    "#print(deriv[deriv['sold_dt'] < '2018-06-01'])\n",
    "plt.plot((group_by['2018-03-01':'2018-06-01']))\n",
    "print(group_by['2018-03-01':'2018-06-01'])\n",
    "print(deriv['2018-03-01':'2018-06-01'])\n",
    "plt.show()\n",
    "plt.plot(deriv['2018-04-01':'2018-06-01'])\n",
    "#plt.plot(sold_price_weekly)\n",
    "plt.show()\n"
   ]
  },
  {
   "cell_type": "code",
   "execution_count": 23,
   "metadata": {},
   "outputs": [
    {
     "data": {
      "text/html": [
       "<div>\n",
       "<style scoped>\n",
       "    .dataframe tbody tr th:only-of-type {\n",
       "        vertical-align: middle;\n",
       "    }\n",
       "\n",
       "    .dataframe tbody tr th {\n",
       "        vertical-align: top;\n",
       "    }\n",
       "\n",
       "    .dataframe thead th {\n",
       "        text-align: right;\n",
       "    }\n",
       "</style>\n",
       "<table border=\"1\" class=\"dataframe\">\n",
       "  <thead>\n",
       "    <tr style=\"text-align: right;\">\n",
       "      <th></th>\n",
       "      <th>published</th>\n",
       "      <th>sold_date</th>\n",
       "      <th>object_type</th>\n",
       "      <th>living_area</th>\n",
       "      <th>rooms</th>\n",
       "      <th>floor</th>\n",
       "      <th>rent</th>\n",
       "      <th>list_price</th>\n",
       "      <th>sold_price</th>\n",
       "      <th>sold_price_source</th>\n",
       "      <th>...</th>\n",
       "      <th>sold_week</th>\n",
       "      <th>sold_month</th>\n",
       "      <th>sqm_list_price</th>\n",
       "      <th>sqm_sold_price</th>\n",
       "      <th>sqm_rent_price</th>\n",
       "      <th>area_from_geo</th>\n",
       "      <th>min_distance_to_metro</th>\n",
       "      <th>published_week_dt</th>\n",
       "      <th>sqm_sold_price_rolling_7d</th>\n",
       "      <th>sqm_sold_price_rolling_14d</th>\n",
       "    </tr>\n",
       "  </thead>\n",
       "  <tbody>\n",
       "    <tr>\n",
       "      <th>3</th>\n",
       "      <td>2018-03-29</td>\n",
       "      <td>2018-04-13</td>\n",
       "      <td>Lagenhet</td>\n",
       "      <td>25.0</td>\n",
       "      <td>1.0</td>\n",
       "      <td>2.0</td>\n",
       "      <td>636.0</td>\n",
       "      <td>2495000.0</td>\n",
       "      <td>2725000</td>\n",
       "      <td>bid</td>\n",
       "      <td>...</td>\n",
       "      <td>2018-04-09</td>\n",
       "      <td>2018-04-01</td>\n",
       "      <td>99800.0000</td>\n",
       "      <td>109000.0000</td>\n",
       "      <td>25.4400</td>\n",
       "      <td>Östermalm</td>\n",
       "      <td>384.764962</td>\n",
       "      <td>2018-03-26</td>\n",
       "      <td>69684.803419</td>\n",
       "      <td>71791.827453</td>\n",
       "    </tr>\n",
       "    <tr>\n",
       "      <th>23</th>\n",
       "      <td>2018-04-28</td>\n",
       "      <td>2018-06-02</td>\n",
       "      <td>Lagenhet</td>\n",
       "      <td>96.0</td>\n",
       "      <td>4.0</td>\n",
       "      <td>3.0</td>\n",
       "      <td>4701.0</td>\n",
       "      <td>4495000.0</td>\n",
       "      <td>4500000</td>\n",
       "      <td>bid</td>\n",
       "      <td>...</td>\n",
       "      <td>2018-05-28</td>\n",
       "      <td>2018-06-01</td>\n",
       "      <td>46822.9167</td>\n",
       "      <td>46875.0000</td>\n",
       "      <td>48.9688</td>\n",
       "      <td>Järva</td>\n",
       "      <td>1544.807102</td>\n",
       "      <td>2018-04-23</td>\n",
       "      <td>72662.327015</td>\n",
       "      <td>72201.189693</td>\n",
       "    </tr>\n",
       "    <tr>\n",
       "      <th>62</th>\n",
       "      <td>2018-04-26</td>\n",
       "      <td>2018-05-09</td>\n",
       "      <td>Lagenhet</td>\n",
       "      <td>41.0</td>\n",
       "      <td>1.5</td>\n",
       "      <td>0.0</td>\n",
       "      <td>1660.0</td>\n",
       "      <td>2950000.0</td>\n",
       "      <td>3500000</td>\n",
       "      <td>bid</td>\n",
       "      <td>...</td>\n",
       "      <td>2018-05-07</td>\n",
       "      <td>2018-05-01</td>\n",
       "      <td>71951.2195</td>\n",
       "      <td>85365.8537</td>\n",
       "      <td>40.4878</td>\n",
       "      <td>Vasastan</td>\n",
       "      <td>649.603299</td>\n",
       "      <td>2018-04-23</td>\n",
       "      <td>72662.327015</td>\n",
       "      <td>72201.189693</td>\n",
       "    </tr>\n",
       "    <tr>\n",
       "      <th>68</th>\n",
       "      <td>2018-05-04</td>\n",
       "      <td>2018-08-31</td>\n",
       "      <td>Lagenhet</td>\n",
       "      <td>138.0</td>\n",
       "      <td>6.0</td>\n",
       "      <td>4.0</td>\n",
       "      <td>5679.0</td>\n",
       "      <td>8375000.0</td>\n",
       "      <td>8250000</td>\n",
       "      <td>bid</td>\n",
       "      <td>...</td>\n",
       "      <td>2018-08-27</td>\n",
       "      <td>2018-08-01</td>\n",
       "      <td>60688.4058</td>\n",
       "      <td>59782.6087</td>\n",
       "      <td>41.1522</td>\n",
       "      <td>Södermalm</td>\n",
       "      <td>87.029668</td>\n",
       "      <td>2018-04-30</td>\n",
       "      <td>72398.778322</td>\n",
       "      <td>72530.552668</td>\n",
       "    </tr>\n",
       "    <tr>\n",
       "      <th>73</th>\n",
       "      <td>2018-04-27</td>\n",
       "      <td>2018-05-10</td>\n",
       "      <td>Lagenhet</td>\n",
       "      <td>25.0</td>\n",
       "      <td>1.0</td>\n",
       "      <td>2.0</td>\n",
       "      <td>930.0</td>\n",
       "      <td>2495000.0</td>\n",
       "      <td>2965000</td>\n",
       "      <td>bid</td>\n",
       "      <td>...</td>\n",
       "      <td>2018-05-07</td>\n",
       "      <td>2018-05-01</td>\n",
       "      <td>99800.0000</td>\n",
       "      <td>118600.0000</td>\n",
       "      <td>37.2000</td>\n",
       "      <td>Vasastan</td>\n",
       "      <td>446.141721</td>\n",
       "      <td>2018-04-23</td>\n",
       "      <td>72662.327015</td>\n",
       "      <td>72201.189693</td>\n",
       "    </tr>\n",
       "  </tbody>\n",
       "</table>\n",
       "<p>5 rows × 29 columns</p>\n",
       "</div>"
      ],
      "text/plain": [
       "     published   sold_date object_type  living_area  rooms  floor    rent  \\\n",
       "3   2018-03-29  2018-04-13    Lagenhet         25.0    1.0    2.0   636.0   \n",
       "23  2018-04-28  2018-06-02    Lagenhet         96.0    4.0    3.0  4701.0   \n",
       "62  2018-04-26  2018-05-09    Lagenhet         41.0    1.5    0.0  1660.0   \n",
       "68  2018-05-04  2018-08-31    Lagenhet        138.0    6.0    4.0  5679.0   \n",
       "73  2018-04-27  2018-05-10    Lagenhet         25.0    1.0    2.0   930.0   \n",
       "\n",
       "    list_price  sold_price sold_price_source            ...              \\\n",
       "3    2495000.0     2725000               bid            ...               \n",
       "23   4495000.0     4500000               bid            ...               \n",
       "62   2950000.0     3500000               bid            ...               \n",
       "68   8375000.0     8250000               bid            ...               \n",
       "73   2495000.0     2965000               bid            ...               \n",
       "\n",
       "     sold_week  sold_month  sqm_list_price sqm_sold_price sqm_rent_price  \\\n",
       "3   2018-04-09  2018-04-01      99800.0000    109000.0000        25.4400   \n",
       "23  2018-05-28  2018-06-01      46822.9167     46875.0000        48.9688   \n",
       "62  2018-05-07  2018-05-01      71951.2195     85365.8537        40.4878   \n",
       "68  2018-08-27  2018-08-01      60688.4058     59782.6087        41.1522   \n",
       "73  2018-05-07  2018-05-01      99800.0000    118600.0000        37.2000   \n",
       "\n",
       "    area_from_geo  min_distance_to_metro published_week_dt  \\\n",
       "3       Östermalm             384.764962        2018-03-26   \n",
       "23          Järva            1544.807102        2018-04-23   \n",
       "62       Vasastan             649.603299        2018-04-23   \n",
       "68      Södermalm              87.029668        2018-04-30   \n",
       "73       Vasastan             446.141721        2018-04-23   \n",
       "\n",
       "   sqm_sold_price_rolling_7d sqm_sold_price_rolling_14d  \n",
       "3               69684.803419               71791.827453  \n",
       "23              72662.327015               72201.189693  \n",
       "62              72662.327015               72201.189693  \n",
       "68              72398.778322               72530.552668  \n",
       "73              72662.327015               72201.189693  \n",
       "\n",
       "[5 rows x 29 columns]"
      ]
     },
     "execution_count": 23,
     "metadata": {},
     "output_type": "execute_result"
    }
   ],
   "source": [
    "\n",
    "#hej = data[data['published'] > '2018-01-01']\n",
    "##pd.to_datetime(hej['sold_date'])\n",
    "data_w_feature = rolling_avg(data[data['published'] >'2018-03-01'],'7d','sqm_sold_price')\n",
    "data_w_feature = rolling_avg(data_w_feature,'14d','sqm_sold_price')\n",
    "#data_w_feature = rolling_avg(data_w_feature,'21d','sqm_sold_price')\n",
    "#data_w_feature = rolling_avg(data_w_feature,'100d','sqm_sold_price')\n",
    "\n",
    "#print(data_w_feature[['published','sqm_sold_price_rolling_7d','sqm_list_price']].head(10))\n",
    "\n",
    "\n",
    "print(data_w_feature.columns)\n",
    "#plt.plot(data_w_feature.groupby(['published_week'])['sqm_sold_price_rolling_7d'].mean())\n",
    "#plt.plot(data_w_feature.groupby(['published_week'])['sqm_sold_price_rolling_14d'].mean())\n",
    "#plt.plot(data_w_feature.groupby(['published_week'])['sqm_sold_price_rolling_21d'].mean())\n",
    "plt.plot(data_w_feature.groupby(['published_week'])['sqm_sold_price_rolling_7d'].mean())\n",
    "\n",
    "plt.show()"
   ]
  },
  {
   "cell_type": "code",
   "execution_count": null,
   "metadata": {},
   "outputs": [],
   "source": []
  },
  {
   "cell_type": "code",
   "execution_count": null,
   "metadata": {},
   "outputs": [],
   "source": []
  },
  {
   "cell_type": "code",
   "execution_count": 18,
   "metadata": {},
   "outputs": [
    {
     "ename": "TypeError",
     "evalue": "cannot do slice indexing on <class 'pandas.core.indexes.range.RangeIndex'> with these indexers [2018-01-01] of <class 'str'>",
     "output_type": "error",
     "traceback": [
      "\u001b[0;31m---------------------------------------------------------------------------\u001b[0m",
      "\u001b[0;31mTypeError\u001b[0m                                 Traceback (most recent call last)",
      "\u001b[0;32m<ipython-input-18-7c7b3b30532c>\u001b[0m in \u001b[0;36m<module>\u001b[0;34m()\u001b[0m\n\u001b[1;32m      1\u001b[0m \u001b[0;31m#[str(x) for x in raw[\"published\"]]\u001b[0m\u001b[0;34m\u001b[0m\u001b[0;34m\u001b[0m\u001b[0m\n\u001b[1;32m      2\u001b[0m \u001b[0;31m#data['2018-01-01':'2018-12-30'].resample('W').count().sort_index()\u001b[0m\u001b[0;34m\u001b[0m\u001b[0;34m\u001b[0m\u001b[0m\n\u001b[0;32m----> 3\u001b[0;31m \u001b[0mplt\u001b[0m\u001b[0;34m.\u001b[0m\u001b[0mplot\u001b[0m\u001b[0;34m(\u001b[0m\u001b[0mdata\u001b[0m\u001b[0;34m[\u001b[0m\u001b[0;34m'2018-01-01'\u001b[0m\u001b[0;34m:\u001b[0m\u001b[0;34m'2018-06-30'\u001b[0m\u001b[0;34m]\u001b[0m\u001b[0;34m.\u001b[0m\u001b[0mresample\u001b[0m\u001b[0;34m(\u001b[0m\u001b[0;34m'W'\u001b[0m\u001b[0;34m)\u001b[0m\u001b[0;34m.\u001b[0m\u001b[0mmean\u001b[0m\u001b[0;34m(\u001b[0m\u001b[0;34m)\u001b[0m\u001b[0;34m.\u001b[0m\u001b[0msort_index\u001b[0m\u001b[0;34m(\u001b[0m\u001b[0;34m)\u001b[0m\u001b[0;34m.\u001b[0m\u001b[0mrolling\u001b[0m\u001b[0;34m(\u001b[0m\u001b[0;34m'28d'\u001b[0m\u001b[0;34m)\u001b[0m\u001b[0;34m.\u001b[0m\u001b[0mmean\u001b[0m\u001b[0;34m(\u001b[0m\u001b[0;34m)\u001b[0m\u001b[0;34m)\u001b[0m\u001b[0;34m\u001b[0m\u001b[0m\n\u001b[0m\u001b[1;32m      4\u001b[0m \u001b[0mplt\u001b[0m\u001b[0;34m.\u001b[0m\u001b[0mplot\u001b[0m\u001b[0;34m(\u001b[0m\u001b[0mdata\u001b[0m\u001b[0;34m[\u001b[0m\u001b[0;34m'2018-01-01'\u001b[0m\u001b[0;34m:\u001b[0m\u001b[0;34m'2018-06-30'\u001b[0m\u001b[0;34m]\u001b[0m\u001b[0;34m.\u001b[0m\u001b[0mresample\u001b[0m\u001b[0;34m(\u001b[0m\u001b[0;34m'W'\u001b[0m\u001b[0;34m)\u001b[0m\u001b[0;34m.\u001b[0m\u001b[0mmean\u001b[0m\u001b[0;34m(\u001b[0m\u001b[0;34m)\u001b[0m\u001b[0;34m)\u001b[0m\u001b[0;34m\u001b[0m\u001b[0m\n\u001b[1;32m      5\u001b[0m \u001b[0mplt\u001b[0m\u001b[0;34m.\u001b[0m\u001b[0mshow\u001b[0m\u001b[0;34m(\u001b[0m\u001b[0;34m)\u001b[0m\u001b[0;34m\u001b[0m\u001b[0m\n",
      "\u001b[0;32m/anaconda3/lib/python3.7/site-packages/pandas/core/frame.py\u001b[0m in \u001b[0;36m__getitem__\u001b[0;34m(self, key)\u001b[0m\n\u001b[1;32m   2674\u001b[0m \u001b[0;34m\u001b[0m\u001b[0m\n\u001b[1;32m   2675\u001b[0m         \u001b[0;31m# see if we can slice the rows\u001b[0m\u001b[0;34m\u001b[0m\u001b[0;34m\u001b[0m\u001b[0m\n\u001b[0;32m-> 2676\u001b[0;31m         \u001b[0mindexer\u001b[0m \u001b[0;34m=\u001b[0m \u001b[0mconvert_to_index_sliceable\u001b[0m\u001b[0;34m(\u001b[0m\u001b[0mself\u001b[0m\u001b[0;34m,\u001b[0m \u001b[0mkey\u001b[0m\u001b[0;34m)\u001b[0m\u001b[0;34m\u001b[0m\u001b[0m\n\u001b[0m\u001b[1;32m   2677\u001b[0m         \u001b[0;32mif\u001b[0m \u001b[0mindexer\u001b[0m \u001b[0;32mis\u001b[0m \u001b[0;32mnot\u001b[0m \u001b[0;32mNone\u001b[0m\u001b[0;34m:\u001b[0m\u001b[0;34m\u001b[0m\u001b[0m\n\u001b[1;32m   2678\u001b[0m             \u001b[0;32mreturn\u001b[0m \u001b[0mself\u001b[0m\u001b[0;34m.\u001b[0m\u001b[0m_getitem_slice\u001b[0m\u001b[0;34m(\u001b[0m\u001b[0mindexer\u001b[0m\u001b[0;34m)\u001b[0m\u001b[0;34m\u001b[0m\u001b[0m\n",
      "\u001b[0;32m/anaconda3/lib/python3.7/site-packages/pandas/core/indexing.py\u001b[0m in \u001b[0;36mconvert_to_index_sliceable\u001b[0;34m(obj, key)\u001b[0m\n\u001b[1;32m   2324\u001b[0m     \u001b[0midx\u001b[0m \u001b[0;34m=\u001b[0m \u001b[0mobj\u001b[0m\u001b[0;34m.\u001b[0m\u001b[0mindex\u001b[0m\u001b[0;34m\u001b[0m\u001b[0m\n\u001b[1;32m   2325\u001b[0m     \u001b[0;32mif\u001b[0m \u001b[0misinstance\u001b[0m\u001b[0;34m(\u001b[0m\u001b[0mkey\u001b[0m\u001b[0;34m,\u001b[0m \u001b[0mslice\u001b[0m\u001b[0;34m)\u001b[0m\u001b[0;34m:\u001b[0m\u001b[0;34m\u001b[0m\u001b[0m\n\u001b[0;32m-> 2326\u001b[0;31m         \u001b[0;32mreturn\u001b[0m \u001b[0midx\u001b[0m\u001b[0;34m.\u001b[0m\u001b[0m_convert_slice_indexer\u001b[0m\u001b[0;34m(\u001b[0m\u001b[0mkey\u001b[0m\u001b[0;34m,\u001b[0m \u001b[0mkind\u001b[0m\u001b[0;34m=\u001b[0m\u001b[0;34m'getitem'\u001b[0m\u001b[0;34m)\u001b[0m\u001b[0;34m\u001b[0m\u001b[0m\n\u001b[0m\u001b[1;32m   2327\u001b[0m \u001b[0;34m\u001b[0m\u001b[0m\n\u001b[1;32m   2328\u001b[0m     \u001b[0;32melif\u001b[0m \u001b[0misinstance\u001b[0m\u001b[0;34m(\u001b[0m\u001b[0mkey\u001b[0m\u001b[0;34m,\u001b[0m \u001b[0mcompat\u001b[0m\u001b[0;34m.\u001b[0m\u001b[0mstring_types\u001b[0m\u001b[0;34m)\u001b[0m\u001b[0;34m:\u001b[0m\u001b[0;34m\u001b[0m\u001b[0m\n",
      "\u001b[0;32m/anaconda3/lib/python3.7/site-packages/pandas/core/indexes/base.py\u001b[0m in \u001b[0;36m_convert_slice_indexer\u001b[0;34m(self, key, kind)\u001b[0m\n\u001b[1;32m   1724\u001b[0m             \"\"\"\n\u001b[1;32m   1725\u001b[0m             \u001b[0;32mif\u001b[0m \u001b[0mself\u001b[0m\u001b[0;34m.\u001b[0m\u001b[0mis_integer\u001b[0m\u001b[0;34m(\u001b[0m\u001b[0;34m)\u001b[0m \u001b[0;32mor\u001b[0m \u001b[0mis_index_slice\u001b[0m\u001b[0;34m:\u001b[0m\u001b[0;34m\u001b[0m\u001b[0m\n\u001b[0;32m-> 1726\u001b[0;31m                 return slice(self._validate_indexer('slice', key.start, kind),\n\u001b[0m\u001b[1;32m   1727\u001b[0m                              \u001b[0mself\u001b[0m\u001b[0;34m.\u001b[0m\u001b[0m_validate_indexer\u001b[0m\u001b[0;34m(\u001b[0m\u001b[0;34m'slice'\u001b[0m\u001b[0;34m,\u001b[0m \u001b[0mkey\u001b[0m\u001b[0;34m.\u001b[0m\u001b[0mstop\u001b[0m\u001b[0;34m,\u001b[0m \u001b[0mkind\u001b[0m\u001b[0;34m)\u001b[0m\u001b[0;34m,\u001b[0m\u001b[0;34m\u001b[0m\u001b[0m\n\u001b[1;32m   1728\u001b[0m                              self._validate_indexer('slice', key.step, kind))\n",
      "\u001b[0;32m/anaconda3/lib/python3.7/site-packages/pandas/core/indexes/base.py\u001b[0m in \u001b[0;36m_validate_indexer\u001b[0;34m(self, form, key, kind)\u001b[0m\n\u001b[1;32m   4143\u001b[0m             \u001b[0;32mpass\u001b[0m\u001b[0;34m\u001b[0m\u001b[0m\n\u001b[1;32m   4144\u001b[0m         \u001b[0;32melif\u001b[0m \u001b[0mkind\u001b[0m \u001b[0;32min\u001b[0m \u001b[0;34m[\u001b[0m\u001b[0;34m'iloc'\u001b[0m\u001b[0;34m,\u001b[0m \u001b[0;34m'getitem'\u001b[0m\u001b[0;34m]\u001b[0m\u001b[0;34m:\u001b[0m\u001b[0;34m\u001b[0m\u001b[0m\n\u001b[0;32m-> 4145\u001b[0;31m             \u001b[0mself\u001b[0m\u001b[0;34m.\u001b[0m\u001b[0m_invalid_indexer\u001b[0m\u001b[0;34m(\u001b[0m\u001b[0mform\u001b[0m\u001b[0;34m,\u001b[0m \u001b[0mkey\u001b[0m\u001b[0;34m)\u001b[0m\u001b[0;34m\u001b[0m\u001b[0m\n\u001b[0m\u001b[1;32m   4146\u001b[0m         \u001b[0;32mreturn\u001b[0m \u001b[0mkey\u001b[0m\u001b[0;34m\u001b[0m\u001b[0m\n\u001b[1;32m   4147\u001b[0m \u001b[0;34m\u001b[0m\u001b[0m\n",
      "\u001b[0;32m/anaconda3/lib/python3.7/site-packages/pandas/core/indexes/base.py\u001b[0m in \u001b[0;36m_invalid_indexer\u001b[0;34m(self, form, key)\u001b[0m\n\u001b[1;32m   1861\u001b[0m                         \"indexers [{key}] of {kind}\".format(\n\u001b[1;32m   1862\u001b[0m                             \u001b[0mform\u001b[0m\u001b[0;34m=\u001b[0m\u001b[0mform\u001b[0m\u001b[0;34m,\u001b[0m \u001b[0mklass\u001b[0m\u001b[0;34m=\u001b[0m\u001b[0mtype\u001b[0m\u001b[0;34m(\u001b[0m\u001b[0mself\u001b[0m\u001b[0;34m)\u001b[0m\u001b[0;34m,\u001b[0m \u001b[0mkey\u001b[0m\u001b[0;34m=\u001b[0m\u001b[0mkey\u001b[0m\u001b[0;34m,\u001b[0m\u001b[0;34m\u001b[0m\u001b[0m\n\u001b[0;32m-> 1863\u001b[0;31m                             kind=type(key)))\n\u001b[0m\u001b[1;32m   1864\u001b[0m \u001b[0;34m\u001b[0m\u001b[0m\n\u001b[1;32m   1865\u001b[0m     \u001b[0;32mdef\u001b[0m \u001b[0mget_duplicates\u001b[0m\u001b[0;34m(\u001b[0m\u001b[0mself\u001b[0m\u001b[0;34m)\u001b[0m\u001b[0;34m:\u001b[0m\u001b[0;34m\u001b[0m\u001b[0m\n",
      "\u001b[0;31mTypeError\u001b[0m: cannot do slice indexing on <class 'pandas.core.indexes.range.RangeIndex'> with these indexers [2018-01-01] of <class 'str'>"
     ]
    }
   ],
   "source": [
    "#[str(x) for x in raw[\"published\"]]\n",
    "#data['2018-01-01':'2018-12-30'].resample('W').count().sort_index()\n",
    "plt.plot(data['2018-01-01':'2018-06-30'].resample('W').mean().sort_index().rolling('28d').mean())\n",
    "plt.plot(data['2018-01-01':'2018-06-30'].resample('W').mean())\n",
    "plt.show()"
   ]
  },
  {
   "cell_type": "code",
   "execution_count": 21,
   "metadata": {},
   "outputs": [
    {
     "ename": "KeyError",
     "evalue": "\"['num_sold_14d'] not in index\"",
     "output_type": "error",
     "traceback": [
      "\u001b[0;31m---------------------------------------------------------------------------\u001b[0m",
      "\u001b[0;31mKeyError\u001b[0m                                  Traceback (most recent call last)",
      "\u001b[0;32m<ipython-input-21-55b287ecb113>\u001b[0m in \u001b[0;36m<module>\u001b[0;34m()\u001b[0m\n\u001b[1;32m      2\u001b[0m \u001b[0;31m#new_df = pd.merge(data, num_sold_14d, left_on = 'published_week_dt', right_index=True, how = 'left')\u001b[0m\u001b[0;34m\u001b[0m\u001b[0;34m\u001b[0m\u001b[0m\n\u001b[1;32m      3\u001b[0m \u001b[0;31m#print(new_df[['published','num_sold_14d']].head())\u001b[0m\u001b[0;34m\u001b[0m\u001b[0;34m\u001b[0m\u001b[0m\n\u001b[0;32m----> 4\u001b[0;31m \u001b[0mprint\u001b[0m\u001b[0;34m(\u001b[0m\u001b[0mdata\u001b[0m\u001b[0;34m[\u001b[0m\u001b[0;34m[\u001b[0m\u001b[0;34m'published'\u001b[0m\u001b[0;34m,\u001b[0m\u001b[0;34m'num_sold_14d'\u001b[0m\u001b[0;34m]\u001b[0m\u001b[0;34m]\u001b[0m\u001b[0;34m.\u001b[0m\u001b[0mhead\u001b[0m\u001b[0;34m(\u001b[0m\u001b[0;34m)\u001b[0m\u001b[0;34m)\u001b[0m\u001b[0;34m\u001b[0m\u001b[0m\n\u001b[0m",
      "\u001b[0;32m/anaconda3/lib/python3.7/site-packages/pandas/core/frame.py\u001b[0m in \u001b[0;36m__getitem__\u001b[0;34m(self, key)\u001b[0m\n\u001b[1;32m   2680\u001b[0m         \u001b[0;32mif\u001b[0m \u001b[0misinstance\u001b[0m\u001b[0;34m(\u001b[0m\u001b[0mkey\u001b[0m\u001b[0;34m,\u001b[0m \u001b[0;34m(\u001b[0m\u001b[0mSeries\u001b[0m\u001b[0;34m,\u001b[0m \u001b[0mnp\u001b[0m\u001b[0;34m.\u001b[0m\u001b[0mndarray\u001b[0m\u001b[0;34m,\u001b[0m \u001b[0mIndex\u001b[0m\u001b[0;34m,\u001b[0m \u001b[0mlist\u001b[0m\u001b[0;34m)\u001b[0m\u001b[0;34m)\u001b[0m\u001b[0;34m:\u001b[0m\u001b[0;34m\u001b[0m\u001b[0m\n\u001b[1;32m   2681\u001b[0m             \u001b[0;31m# either boolean or fancy integer index\u001b[0m\u001b[0;34m\u001b[0m\u001b[0;34m\u001b[0m\u001b[0m\n\u001b[0;32m-> 2682\u001b[0;31m             \u001b[0;32mreturn\u001b[0m \u001b[0mself\u001b[0m\u001b[0;34m.\u001b[0m\u001b[0m_getitem_array\u001b[0m\u001b[0;34m(\u001b[0m\u001b[0mkey\u001b[0m\u001b[0;34m)\u001b[0m\u001b[0;34m\u001b[0m\u001b[0m\n\u001b[0m\u001b[1;32m   2683\u001b[0m         \u001b[0;32melif\u001b[0m \u001b[0misinstance\u001b[0m\u001b[0;34m(\u001b[0m\u001b[0mkey\u001b[0m\u001b[0;34m,\u001b[0m \u001b[0mDataFrame\u001b[0m\u001b[0;34m)\u001b[0m\u001b[0;34m:\u001b[0m\u001b[0;34m\u001b[0m\u001b[0m\n\u001b[1;32m   2684\u001b[0m             \u001b[0;32mreturn\u001b[0m \u001b[0mself\u001b[0m\u001b[0;34m.\u001b[0m\u001b[0m_getitem_frame\u001b[0m\u001b[0;34m(\u001b[0m\u001b[0mkey\u001b[0m\u001b[0;34m)\u001b[0m\u001b[0;34m\u001b[0m\u001b[0m\n",
      "\u001b[0;32m/anaconda3/lib/python3.7/site-packages/pandas/core/frame.py\u001b[0m in \u001b[0;36m_getitem_array\u001b[0;34m(self, key)\u001b[0m\n\u001b[1;32m   2724\u001b[0m             \u001b[0;32mreturn\u001b[0m \u001b[0mself\u001b[0m\u001b[0;34m.\u001b[0m\u001b[0m_take\u001b[0m\u001b[0;34m(\u001b[0m\u001b[0mindexer\u001b[0m\u001b[0;34m,\u001b[0m \u001b[0maxis\u001b[0m\u001b[0;34m=\u001b[0m\u001b[0;36m0\u001b[0m\u001b[0;34m)\u001b[0m\u001b[0;34m\u001b[0m\u001b[0m\n\u001b[1;32m   2725\u001b[0m         \u001b[0;32melse\u001b[0m\u001b[0;34m:\u001b[0m\u001b[0;34m\u001b[0m\u001b[0m\n\u001b[0;32m-> 2726\u001b[0;31m             \u001b[0mindexer\u001b[0m \u001b[0;34m=\u001b[0m \u001b[0mself\u001b[0m\u001b[0;34m.\u001b[0m\u001b[0mloc\u001b[0m\u001b[0;34m.\u001b[0m\u001b[0m_convert_to_indexer\u001b[0m\u001b[0;34m(\u001b[0m\u001b[0mkey\u001b[0m\u001b[0;34m,\u001b[0m \u001b[0maxis\u001b[0m\u001b[0;34m=\u001b[0m\u001b[0;36m1\u001b[0m\u001b[0;34m)\u001b[0m\u001b[0;34m\u001b[0m\u001b[0m\n\u001b[0m\u001b[1;32m   2727\u001b[0m             \u001b[0;32mreturn\u001b[0m \u001b[0mself\u001b[0m\u001b[0;34m.\u001b[0m\u001b[0m_take\u001b[0m\u001b[0;34m(\u001b[0m\u001b[0mindexer\u001b[0m\u001b[0;34m,\u001b[0m \u001b[0maxis\u001b[0m\u001b[0;34m=\u001b[0m\u001b[0;36m1\u001b[0m\u001b[0;34m)\u001b[0m\u001b[0;34m\u001b[0m\u001b[0m\n\u001b[1;32m   2728\u001b[0m \u001b[0;34m\u001b[0m\u001b[0m\n",
      "\u001b[0;32m/anaconda3/lib/python3.7/site-packages/pandas/core/indexing.py\u001b[0m in \u001b[0;36m_convert_to_indexer\u001b[0;34m(self, obj, axis, is_setter)\u001b[0m\n\u001b[1;32m   1325\u001b[0m                 \u001b[0;32mif\u001b[0m \u001b[0mmask\u001b[0m\u001b[0;34m.\u001b[0m\u001b[0many\u001b[0m\u001b[0;34m(\u001b[0m\u001b[0;34m)\u001b[0m\u001b[0;34m:\u001b[0m\u001b[0;34m\u001b[0m\u001b[0m\n\u001b[1;32m   1326\u001b[0m                     raise KeyError('{mask} not in index'\n\u001b[0;32m-> 1327\u001b[0;31m                                    .format(mask=objarr[mask]))\n\u001b[0m\u001b[1;32m   1328\u001b[0m \u001b[0;34m\u001b[0m\u001b[0m\n\u001b[1;32m   1329\u001b[0m                 \u001b[0;32mreturn\u001b[0m \u001b[0mcom\u001b[0m\u001b[0;34m.\u001b[0m\u001b[0m_values_from_object\u001b[0m\u001b[0;34m(\u001b[0m\u001b[0mindexer\u001b[0m\u001b[0;34m)\u001b[0m\u001b[0;34m\u001b[0m\u001b[0m\n",
      "\u001b[0;31mKeyError\u001b[0m: \"['num_sold_14d'] not in index\""
     ]
    }
   ],
   "source": [
    "#print(hej1)\n",
    "#new_df = pd.merge(data, num_sold_14d, left_on = 'published_week_dt', right_index=True, how = 'left')\n",
    "#print(new_df[['published','num_sold_14d']].head())\n",
    "print(data[['published','num_sold_14d']].head())"
   ]
  },
  {
   "cell_type": "code",
   "execution_count": 19,
   "metadata": {},
   "outputs": [
    {
     "ename": "TypeError",
     "evalue": "cannot do slice indexing on <class 'pandas.core.indexes.range.RangeIndex'> with these indexers [2018-01-01] of <class 'str'>",
     "output_type": "error",
     "traceback": [
      "\u001b[0;31m---------------------------------------------------------------------------\u001b[0m",
      "\u001b[0;31mTypeError\u001b[0m                                 Traceback (most recent call last)",
      "\u001b[0;32m<ipython-input-19-41cad7214e9f>\u001b[0m in \u001b[0;36m<module>\u001b[0;34m()\u001b[0m\n\u001b[0;32m----> 1\u001b[0;31m \u001b[0mprint\u001b[0m\u001b[0;34m(\u001b[0m\u001b[0mdata\u001b[0m\u001b[0;34m[\u001b[0m\u001b[0;34m'2018-01-01'\u001b[0m\u001b[0;34m:\u001b[0m\u001b[0;34m'2018-06-30'\u001b[0m\u001b[0;34m]\u001b[0m\u001b[0;34m.\u001b[0m\u001b[0mresample\u001b[0m\u001b[0;34m(\u001b[0m\u001b[0;34m'W'\u001b[0m\u001b[0;34m)\u001b[0m\u001b[0;34m.\u001b[0m\u001b[0mcount\u001b[0m\u001b[0;34m(\u001b[0m\u001b[0;34m)\u001b[0m\u001b[0;34m.\u001b[0m\u001b[0msort_index\u001b[0m\u001b[0;34m(\u001b[0m\u001b[0;34m)\u001b[0m\u001b[0;34m.\u001b[0m\u001b[0mhead\u001b[0m\u001b[0;34m(\u001b[0m\u001b[0;36m10\u001b[0m\u001b[0;34m)\u001b[0m\u001b[0;34m)\u001b[0m\u001b[0;34m\u001b[0m\u001b[0m\n\u001b[0m\u001b[1;32m      2\u001b[0m \u001b[0mprint\u001b[0m\u001b[0;34m(\u001b[0m\u001b[0mdata\u001b[0m\u001b[0;34m[\u001b[0m\u001b[0;34m'2018-01-01'\u001b[0m\u001b[0;34m:\u001b[0m\u001b[0;34m'2018-06-30'\u001b[0m\u001b[0;34m]\u001b[0m\u001b[0;34m.\u001b[0m\u001b[0mresample\u001b[0m\u001b[0;34m(\u001b[0m\u001b[0;34m'W'\u001b[0m\u001b[0;34m)\u001b[0m\u001b[0;34m.\u001b[0m\u001b[0mcount\u001b[0m\u001b[0;34m(\u001b[0m\u001b[0;34m)\u001b[0m\u001b[0;34m.\u001b[0m\u001b[0msort_index\u001b[0m\u001b[0;34m(\u001b[0m\u001b[0;34m)\u001b[0m\u001b[0;34m.\u001b[0m\u001b[0mrolling\u001b[0m\u001b[0;34m(\u001b[0m\u001b[0;34m'14d'\u001b[0m\u001b[0;34m)\u001b[0m\u001b[0;34m.\u001b[0m\u001b[0msum\u001b[0m\u001b[0;34m(\u001b[0m\u001b[0;34m)\u001b[0m\u001b[0;34m.\u001b[0m\u001b[0mhead\u001b[0m\u001b[0;34m(\u001b[0m\u001b[0;36m10\u001b[0m\u001b[0;34m)\u001b[0m\u001b[0;34m)\u001b[0m\u001b[0;34m\u001b[0m\u001b[0m\n",
      "\u001b[0;32m/anaconda3/lib/python3.7/site-packages/pandas/core/frame.py\u001b[0m in \u001b[0;36m__getitem__\u001b[0;34m(self, key)\u001b[0m\n\u001b[1;32m   2674\u001b[0m \u001b[0;34m\u001b[0m\u001b[0m\n\u001b[1;32m   2675\u001b[0m         \u001b[0;31m# see if we can slice the rows\u001b[0m\u001b[0;34m\u001b[0m\u001b[0;34m\u001b[0m\u001b[0m\n\u001b[0;32m-> 2676\u001b[0;31m         \u001b[0mindexer\u001b[0m \u001b[0;34m=\u001b[0m \u001b[0mconvert_to_index_sliceable\u001b[0m\u001b[0;34m(\u001b[0m\u001b[0mself\u001b[0m\u001b[0;34m,\u001b[0m \u001b[0mkey\u001b[0m\u001b[0;34m)\u001b[0m\u001b[0;34m\u001b[0m\u001b[0m\n\u001b[0m\u001b[1;32m   2677\u001b[0m         \u001b[0;32mif\u001b[0m \u001b[0mindexer\u001b[0m \u001b[0;32mis\u001b[0m \u001b[0;32mnot\u001b[0m \u001b[0;32mNone\u001b[0m\u001b[0;34m:\u001b[0m\u001b[0;34m\u001b[0m\u001b[0m\n\u001b[1;32m   2678\u001b[0m             \u001b[0;32mreturn\u001b[0m \u001b[0mself\u001b[0m\u001b[0;34m.\u001b[0m\u001b[0m_getitem_slice\u001b[0m\u001b[0;34m(\u001b[0m\u001b[0mindexer\u001b[0m\u001b[0;34m)\u001b[0m\u001b[0;34m\u001b[0m\u001b[0m\n",
      "\u001b[0;32m/anaconda3/lib/python3.7/site-packages/pandas/core/indexing.py\u001b[0m in \u001b[0;36mconvert_to_index_sliceable\u001b[0;34m(obj, key)\u001b[0m\n\u001b[1;32m   2324\u001b[0m     \u001b[0midx\u001b[0m \u001b[0;34m=\u001b[0m \u001b[0mobj\u001b[0m\u001b[0;34m.\u001b[0m\u001b[0mindex\u001b[0m\u001b[0;34m\u001b[0m\u001b[0m\n\u001b[1;32m   2325\u001b[0m     \u001b[0;32mif\u001b[0m \u001b[0misinstance\u001b[0m\u001b[0;34m(\u001b[0m\u001b[0mkey\u001b[0m\u001b[0;34m,\u001b[0m \u001b[0mslice\u001b[0m\u001b[0;34m)\u001b[0m\u001b[0;34m:\u001b[0m\u001b[0;34m\u001b[0m\u001b[0m\n\u001b[0;32m-> 2326\u001b[0;31m         \u001b[0;32mreturn\u001b[0m \u001b[0midx\u001b[0m\u001b[0;34m.\u001b[0m\u001b[0m_convert_slice_indexer\u001b[0m\u001b[0;34m(\u001b[0m\u001b[0mkey\u001b[0m\u001b[0;34m,\u001b[0m \u001b[0mkind\u001b[0m\u001b[0;34m=\u001b[0m\u001b[0;34m'getitem'\u001b[0m\u001b[0;34m)\u001b[0m\u001b[0;34m\u001b[0m\u001b[0m\n\u001b[0m\u001b[1;32m   2327\u001b[0m \u001b[0;34m\u001b[0m\u001b[0m\n\u001b[1;32m   2328\u001b[0m     \u001b[0;32melif\u001b[0m \u001b[0misinstance\u001b[0m\u001b[0;34m(\u001b[0m\u001b[0mkey\u001b[0m\u001b[0;34m,\u001b[0m \u001b[0mcompat\u001b[0m\u001b[0;34m.\u001b[0m\u001b[0mstring_types\u001b[0m\u001b[0;34m)\u001b[0m\u001b[0;34m:\u001b[0m\u001b[0;34m\u001b[0m\u001b[0m\n",
      "\u001b[0;32m/anaconda3/lib/python3.7/site-packages/pandas/core/indexes/base.py\u001b[0m in \u001b[0;36m_convert_slice_indexer\u001b[0;34m(self, key, kind)\u001b[0m\n\u001b[1;32m   1724\u001b[0m             \"\"\"\n\u001b[1;32m   1725\u001b[0m             \u001b[0;32mif\u001b[0m \u001b[0mself\u001b[0m\u001b[0;34m.\u001b[0m\u001b[0mis_integer\u001b[0m\u001b[0;34m(\u001b[0m\u001b[0;34m)\u001b[0m \u001b[0;32mor\u001b[0m \u001b[0mis_index_slice\u001b[0m\u001b[0;34m:\u001b[0m\u001b[0;34m\u001b[0m\u001b[0m\n\u001b[0;32m-> 1726\u001b[0;31m                 return slice(self._validate_indexer('slice', key.start, kind),\n\u001b[0m\u001b[1;32m   1727\u001b[0m                              \u001b[0mself\u001b[0m\u001b[0;34m.\u001b[0m\u001b[0m_validate_indexer\u001b[0m\u001b[0;34m(\u001b[0m\u001b[0;34m'slice'\u001b[0m\u001b[0;34m,\u001b[0m \u001b[0mkey\u001b[0m\u001b[0;34m.\u001b[0m\u001b[0mstop\u001b[0m\u001b[0;34m,\u001b[0m \u001b[0mkind\u001b[0m\u001b[0;34m)\u001b[0m\u001b[0;34m,\u001b[0m\u001b[0;34m\u001b[0m\u001b[0m\n\u001b[1;32m   1728\u001b[0m                              self._validate_indexer('slice', key.step, kind))\n",
      "\u001b[0;32m/anaconda3/lib/python3.7/site-packages/pandas/core/indexes/base.py\u001b[0m in \u001b[0;36m_validate_indexer\u001b[0;34m(self, form, key, kind)\u001b[0m\n\u001b[1;32m   4143\u001b[0m             \u001b[0;32mpass\u001b[0m\u001b[0;34m\u001b[0m\u001b[0m\n\u001b[1;32m   4144\u001b[0m         \u001b[0;32melif\u001b[0m \u001b[0mkind\u001b[0m \u001b[0;32min\u001b[0m \u001b[0;34m[\u001b[0m\u001b[0;34m'iloc'\u001b[0m\u001b[0;34m,\u001b[0m \u001b[0;34m'getitem'\u001b[0m\u001b[0;34m]\u001b[0m\u001b[0;34m:\u001b[0m\u001b[0;34m\u001b[0m\u001b[0m\n\u001b[0;32m-> 4145\u001b[0;31m             \u001b[0mself\u001b[0m\u001b[0;34m.\u001b[0m\u001b[0m_invalid_indexer\u001b[0m\u001b[0;34m(\u001b[0m\u001b[0mform\u001b[0m\u001b[0;34m,\u001b[0m \u001b[0mkey\u001b[0m\u001b[0;34m)\u001b[0m\u001b[0;34m\u001b[0m\u001b[0m\n\u001b[0m\u001b[1;32m   4146\u001b[0m         \u001b[0;32mreturn\u001b[0m \u001b[0mkey\u001b[0m\u001b[0;34m\u001b[0m\u001b[0m\n\u001b[1;32m   4147\u001b[0m \u001b[0;34m\u001b[0m\u001b[0m\n",
      "\u001b[0;32m/anaconda3/lib/python3.7/site-packages/pandas/core/indexes/base.py\u001b[0m in \u001b[0;36m_invalid_indexer\u001b[0;34m(self, form, key)\u001b[0m\n\u001b[1;32m   1861\u001b[0m                         \"indexers [{key}] of {kind}\".format(\n\u001b[1;32m   1862\u001b[0m                             \u001b[0mform\u001b[0m\u001b[0;34m=\u001b[0m\u001b[0mform\u001b[0m\u001b[0;34m,\u001b[0m \u001b[0mklass\u001b[0m\u001b[0;34m=\u001b[0m\u001b[0mtype\u001b[0m\u001b[0;34m(\u001b[0m\u001b[0mself\u001b[0m\u001b[0;34m)\u001b[0m\u001b[0;34m,\u001b[0m \u001b[0mkey\u001b[0m\u001b[0;34m=\u001b[0m\u001b[0mkey\u001b[0m\u001b[0;34m,\u001b[0m\u001b[0;34m\u001b[0m\u001b[0m\n\u001b[0;32m-> 1863\u001b[0;31m                             kind=type(key)))\n\u001b[0m\u001b[1;32m   1864\u001b[0m \u001b[0;34m\u001b[0m\u001b[0m\n\u001b[1;32m   1865\u001b[0m     \u001b[0;32mdef\u001b[0m \u001b[0mget_duplicates\u001b[0m\u001b[0;34m(\u001b[0m\u001b[0mself\u001b[0m\u001b[0;34m)\u001b[0m\u001b[0;34m:\u001b[0m\u001b[0;34m\u001b[0m\u001b[0m\n",
      "\u001b[0;31mTypeError\u001b[0m: cannot do slice indexing on <class 'pandas.core.indexes.range.RangeIndex'> with these indexers [2018-01-01] of <class 'str'>"
     ]
    }
   ],
   "source": [
    "print(data['2018-01-01':'2018-06-30'].resample('W').count().sort_index().head(10))\n",
    "print(data['2018-01-01':'2018-06-30'].resample('W').count().sort_index().rolling('14d').sum().head(10))"
   ]
  },
  {
   "cell_type": "code",
   "execution_count": 20,
   "metadata": {},
   "outputs": [
    {
     "ename": "NameError",
     "evalue": "name 'raw_2' is not defined",
     "output_type": "error",
     "traceback": [
      "\u001b[0;31m---------------------------------------------------------------------------\u001b[0m",
      "\u001b[0;31mNameError\u001b[0m                                 Traceback (most recent call last)",
      "\u001b[0;32m<ipython-input-20-eacb5396477f>\u001b[0m in \u001b[0;36m<module>\u001b[0;34m()\u001b[0m\n\u001b[0;32m----> 1\u001b[0;31m \u001b[0ma\u001b[0m \u001b[0;34m=\u001b[0m \u001b[0mraw_2\u001b[0m\u001b[0;34m[\u001b[0m\u001b[0mraw_2\u001b[0m\u001b[0;34m[\u001b[0m\u001b[0;34m'published'\u001b[0m\u001b[0;34m]\u001b[0m \u001b[0;34m>\u001b[0m \u001b[0;34m'2018-04-01'\u001b[0m\u001b[0;34m]\u001b[0m\u001b[0;34m[\u001b[0m\u001b[0;34m[\u001b[0m\u001b[0;34m'sold_date'\u001b[0m\u001b[0;34m,\u001b[0m\u001b[0;34m'published'\u001b[0m\u001b[0;34m,\u001b[0m\u001b[0;34m'published_dt'\u001b[0m\u001b[0;34m,\u001b[0m\u001b[0;34m'published_week'\u001b[0m\u001b[0;34m]\u001b[0m\u001b[0;34m]\u001b[0m\u001b[0;34m\u001b[0m\u001b[0m\n\u001b[0m\u001b[1;32m      2\u001b[0m \u001b[0mb\u001b[0m \u001b[0;34m=\u001b[0m \u001b[0mdata\u001b[0m\u001b[0;34m[\u001b[0m\u001b[0;34m'2018-04-01'\u001b[0m\u001b[0;34m:\u001b[0m\u001b[0;34m'2018-06-01'\u001b[0m\u001b[0;34m]\u001b[0m\u001b[0;34m.\u001b[0m\u001b[0mresample\u001b[0m\u001b[0;34m(\u001b[0m\u001b[0;34m'W-MON'\u001b[0m\u001b[0;34m)\u001b[0m\u001b[0;34m.\u001b[0m\u001b[0mcount\u001b[0m\u001b[0;34m(\u001b[0m\u001b[0;34m)\u001b[0m\u001b[0;34m.\u001b[0m\u001b[0msort_index\u001b[0m\u001b[0;34m(\u001b[0m\u001b[0;34m)\u001b[0m\u001b[0;34m.\u001b[0m\u001b[0mrolling\u001b[0m\u001b[0;34m(\u001b[0m\u001b[0;34m'14d'\u001b[0m\u001b[0;34m)\u001b[0m\u001b[0;34m.\u001b[0m\u001b[0msum\u001b[0m\u001b[0;34m(\u001b[0m\u001b[0;34m)\u001b[0m\u001b[0;34m\u001b[0m\u001b[0m\n\u001b[1;32m      3\u001b[0m \u001b[0mb\u001b[0m\u001b[0;34m.\u001b[0m\u001b[0mcolumns\u001b[0m \u001b[0;34m=\u001b[0m \u001b[0;34m[\u001b[0m\u001b[0;34m'sum_sold_2w'\u001b[0m\u001b[0;34m]\u001b[0m\u001b[0;34m\u001b[0m\u001b[0m\n\u001b[1;32m      4\u001b[0m \u001b[0mprint\u001b[0m\u001b[0;34m(\u001b[0m\u001b[0ma\u001b[0m\u001b[0;34m.\u001b[0m\u001b[0mhead\u001b[0m\u001b[0;34m(\u001b[0m\u001b[0;34m)\u001b[0m\u001b[0;34m)\u001b[0m\u001b[0;34m\u001b[0m\u001b[0m\n\u001b[1;32m      5\u001b[0m \u001b[0mprint\u001b[0m\u001b[0;34m(\u001b[0m\u001b[0mb\u001b[0m\u001b[0;34m)\u001b[0m\u001b[0;34m\u001b[0m\u001b[0m\n",
      "\u001b[0;31mNameError\u001b[0m: name 'raw_2' is not defined"
     ]
    }
   ],
   "source": [
    "a = raw_2[raw_2['published'] > '2018-04-01'][['sold_date','published','published_dt','published_week']]\n",
    "b = data['2018-04-01':'2018-06-01'].resample('W-MON').count().sort_index().rolling('14d').sum()\n",
    "b.columns = ['sum_sold_2w']\n",
    "print(a.head())\n",
    "print(b)\n",
    "print(len(a))\n",
    "print(len(b))\n",
    "#left_index=True, right_on='Project'\n",
    "#new_df = pd.merge(a,b,  how='left', left_index=True ,right_on='sum_sold_2w')\n",
    "new_df = pd.merge(a, b, left_on = 'published_dt', right_index=True, how = 'left')\n",
    "print(len(new_df))\n",
    "print(new_df)"
   ]
  },
  {
   "cell_type": "code",
   "execution_count": 3,
   "metadata": {
    "collapsed": true
   },
   "outputs": [],
   "source": [
    "### CLEAN DATA FUNC\n",
    "\n",
    "def clean_func(data,predictors):\n",
    "    \n",
    "    ## DO IMPUTATION \n",
    "    # living_area\n",
    "    floor = Imputer(missing_values=\"NaN\", strategy=\"mean\")\n",
    "    floor.fit(data[[\"floor\"]])\n",
    "    data['floor'] = floor.transform(data[[\"floor\"]]).ravel()\n",
    "    \n",
    "    ## REMOVE ROWS w. NULL\n",
    "    data = data[pd.notnull(data[predictors]).all(axis=1)]\n",
    "    return data\n"
   ]
  },
  {
   "cell_type": "code",
   "execution_count": 4,
   "metadata": {
    "collapsed": true
   },
   "outputs": [],
   "source": [
    "## set predictors\n",
    "predictors = ['min_distance_to_metro','living_area'\n",
    "              ,'floor','sqm_list_price','sqm_rent_price'\n",
    "              ,'area_from_geo']\n",
    "\n",
    "## set numeric predictors\n",
    "num_types = ['int16', 'int32', 'int64', 'float16', 'float32', 'float64','uint8']\n",
    "train_data_numerics = raw[predictors].select_dtypes(include=num_types).columns"
   ]
  },
  {
   "cell_type": "code",
   "execution_count": 5,
   "metadata": {
    "collapsed": true
   },
   "outputs": [],
   "source": [
    "## Set target and clean data (se function above)\n",
    "target = 'sqm_sold_price'\n",
    "train_data = clean_func(raw,predictors)\n",
    "\n",
    "train_data_predictors = train_data[predictors]\n",
    "train_data_target = train_data[target].values"
   ]
  }
 ],
 "metadata": {
  "kernelspec": {
   "display_name": "Python 3",
   "language": "python",
   "name": "python3"
  },
  "language_info": {
   "codemirror_mode": {
    "name": "ipython",
    "version": 3
   },
   "file_extension": ".py",
   "mimetype": "text/x-python",
   "name": "python",
   "nbconvert_exporter": "python",
   "pygments_lexer": "ipython3",
   "version": "3.7.0"
  }
 },
 "nbformat": 4,
 "nbformat_minor": 2
}
