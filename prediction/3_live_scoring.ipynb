{
 "cells": [
  {
   "cell_type": "code",
   "execution_count": 112,
   "metadata": {},
   "outputs": [],
   "source": [
    "import pandas as pd\n",
    "raw = pd.pandas.read_csv('../20181220_raw_geo.csv',sep=\",\",low_memory=False)\n",
    "one_row = raw.loc[[1]]\n",
    "one_row_copy = one_row.copy()"
   ]
  },
  {
   "cell_type": "code",
   "execution_count": 113,
   "metadata": {},
   "outputs": [
    {
     "data": {
      "text/html": [
       "<div>\n",
       "<style scoped>\n",
       "    .dataframe tbody tr th:only-of-type {\n",
       "        vertical-align: middle;\n",
       "    }\n",
       "\n",
       "    .dataframe tbody tr th {\n",
       "        vertical-align: top;\n",
       "    }\n",
       "\n",
       "    .dataframe thead th {\n",
       "        text-align: right;\n",
       "    }\n",
       "</style>\n",
       "<table border=\"1\" class=\"dataframe\">\n",
       "  <thead>\n",
       "    <tr style=\"text-align: right;\">\n",
       "      <th></th>\n",
       "      <th>published</th>\n",
       "      <th>sold_date</th>\n",
       "      <th>object_type</th>\n",
       "      <th>living_area</th>\n",
       "      <th>rooms</th>\n",
       "      <th>floor</th>\n",
       "      <th>rent</th>\n",
       "      <th>list_price</th>\n",
       "      <th>sold_price</th>\n",
       "      <th>sold_price_source</th>\n",
       "      <th>...</th>\n",
       "      <th>plot_area</th>\n",
       "      <th>published_week</th>\n",
       "      <th>published_month</th>\n",
       "      <th>sold_week</th>\n",
       "      <th>sold_month</th>\n",
       "      <th>sqm_list_price</th>\n",
       "      <th>sqm_sold_price</th>\n",
       "      <th>sqm_rent_price</th>\n",
       "      <th>area_from_geo</th>\n",
       "      <th>min_distance_to_metro</th>\n",
       "    </tr>\n",
       "  </thead>\n",
       "  <tbody>\n",
       "    <tr>\n",
       "      <th>1</th>\n",
       "      <td>2016-09-30</td>\n",
       "      <td>2017-02-03</td>\n",
       "      <td>Lagenhet</td>\n",
       "      <td>49.0</td>\n",
       "      <td>2.0</td>\n",
       "      <td>0.0</td>\n",
       "      <td>3262.0</td>\n",
       "      <td>3495000.0</td>\n",
       "      <td>3360000</td>\n",
       "      <td>admin</td>\n",
       "      <td>...</td>\n",
       "      <td>NaN</td>\n",
       "      <td>2016-09-26</td>\n",
       "      <td>2016-09-01</td>\n",
       "      <td>2017-01-30</td>\n",
       "      <td>2017-02-01</td>\n",
       "      <td>71326.5306</td>\n",
       "      <td>68571.4286</td>\n",
       "      <td>66.5714</td>\n",
       "      <td>Hammarbyhamnen</td>\n",
       "      <td>981.985739</td>\n",
       "    </tr>\n",
       "  </tbody>\n",
       "</table>\n",
       "<p>1 rows × 31 columns</p>\n",
       "</div>"
      ],
      "text/plain": [
       "    published   sold_date object_type  living_area  rooms  floor    rent  \\\n",
       "1  2016-09-30  2017-02-03    Lagenhet         49.0    2.0    0.0  3262.0   \n",
       "\n",
       "   list_price  sold_price sold_price_source          ...            plot_area  \\\n",
       "1   3495000.0     3360000             admin          ...                  NaN   \n",
       "\n",
       "  published_week published_month   sold_week  sold_month  sqm_list_price  \\\n",
       "1     2016-09-26      2016-09-01  2017-01-30  2017-02-01      71326.5306   \n",
       "\n",
       "  sqm_sold_price sqm_rent_price   area_from_geo  min_distance_to_metro  \n",
       "1     68571.4286        66.5714  Hammarbyhamnen             981.985739  \n",
       "\n",
       "[1 rows x 31 columns]"
      ]
     },
     "execution_count": 113,
     "metadata": {},
     "output_type": "execute_result"
    }
   ],
   "source": [
    "#one_row_copy[one_row_copy['published'] > '2014-01-01']\n",
    "type(one_row_copy)\n",
    "one_row_copy"
   ]
  },
  {
   "cell_type": "code",
   "execution_count": 114,
   "metadata": {},
   "outputs": [],
   "source": [
    "one_row_copy['published_dt'] = pd.to_datetime(one_row_copy['published'])\n",
    "one_row_copy['sold_dt'] = pd.to_datetime(one_row_copy['sold_date'])\n",
    "one_row_copy['sqm_price_diff'] = one_row_copy['sqm_sold_price'] - one_row_copy['sqm_list_price']\n",
    "one_row_copy['cnt'] = 1\n",
    "one_row_copy = one_row_copy[one_row_copy['published'] >'2016-09-01']\n",
    "bins = [ 15.  ,  39.  ,  51.5 ,  64.  ,  80.88, 337.  ]\n",
    "#pd.cut(one_row_copy['living_area'], bins=bins, labels=False, include_lowest=True)\n",
    "\n",
    "#one_row['sqm_bin'], bins = pd.qcut(one_row['living_area'], 5,retbins=True) # generate sqm buckets\n",
    "#one_row['uuid'] = [uuid.uuid4() for _ in range(len(one_row))]"
   ]
  },
  {
   "cell_type": "code",
   "execution_count": 136,
   "metadata": {},
   "outputs": [
    {
     "data": {
      "text/plain": [
       "1    1\n",
       "Name: living_area, dtype: int64"
      ]
     },
     "execution_count": 136,
     "metadata": {},
     "output_type": "execute_result"
    }
   ],
   "source": [
    "pd.cut(one_row_copy['living_area'], bins=bins, labels=False, include_lowest=True)\n",
    "#print(type(pd.cut(one_row_copy['living_area'], bins=bins, labels=False, include_lowest=True)))\n"
   ]
  },
  {
   "cell_type": "code",
   "execution_count": 116,
   "metadata": {},
   "outputs": [
    {
     "data": {
      "text/plain": [
       "1    49.0\n",
       "Name: living_area, dtype: float64"
      ]
     },
     "execution_count": 116,
     "metadata": {},
     "output_type": "execute_result"
    }
   ],
   "source": [
    "one_row_copy['living_area']"
   ]
  },
  {
   "cell_type": "code",
   "execution_count": 100,
   "metadata": {},
   "outputs": [
    {
     "data": {
      "text/plain": [
       "[15.0, 39.0, 51.5, 64.0, 80.88, 337.0]"
      ]
     },
     "execution_count": 100,
     "metadata": {},
     "output_type": "execute_result"
    }
   ],
   "source": [
    "bins"
   ]
  },
  {
   "cell_type": "code",
   "execution_count": null,
   "metadata": {},
   "outputs": [],
   "source": []
  }
 ],
 "metadata": {
  "kernelspec": {
   "display_name": "Python 3",
   "language": "python",
   "name": "python3"
  },
  "language_info": {
   "codemirror_mode": {
    "name": "ipython",
    "version": 3
   },
   "file_extension": ".py",
   "mimetype": "text/x-python",
   "name": "python",
   "nbconvert_exporter": "python",
   "pygments_lexer": "ipython3",
   "version": "3.7.0"
  }
 },
 "nbformat": 4,
 "nbformat_minor": 2
}
