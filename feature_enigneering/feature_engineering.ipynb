{
 "cells": [
  {
   "cell_type": "code",
   "execution_count": 2,
   "metadata": {},
   "outputs": [
    {
     "name": "stdout",
     "output_type": "stream",
     "text": [
      "imported 68204 rows\n"
     ]
    },
    {
     "data": {
      "text/plain": [
       "['booli_id',\n",
       " 'published',\n",
       " 'sold_date',\n",
       " 'object_type',\n",
       " 'living_area',\n",
       " 'rooms',\n",
       " 'floor',\n",
       " 'rent',\n",
       " 'list_price',\n",
       " 'sold_price',\n",
       " 'sold_price_source',\n",
       " 'construction_year',\n",
       " 'address_street_address',\n",
       " 'region_municipality_name',\n",
       " 'region_county_name',\n",
       " 'url',\n",
       " 'apartment_number',\n",
       " 'distance_ocean',\n",
       " 'source_name',\n",
       " 'source_url',\n",
       " 'source_type',\n",
       " 'source_id',\n",
       " 'position_longitude',\n",
       " 'position_latitude',\n",
       " 'additional_area',\n",
       " 'location_named_areas',\n",
       " 'plot_area',\n",
       " 'min_distance_to_metro',\n",
       " 'area_from_geo']"
      ]
     },
     "execution_count": 2,
     "metadata": {},
     "output_type": "execute_result"
    }
   ],
   "source": [
    "import pandas as pd\n",
    "#raw = pd.pandas.read_csv('20170101_raw.csv',sep=\";\")\n",
    "#raw = pd.pandas.read_csv('20180608_raw_geo.csv',sep=\",\",low_memory=False)\n",
    "#raw = pd.pandas.read_csv('20180815_raw_geo.csv',sep=\",\",low_memory=False)\n",
    "raw = pd.pandas.read_csv('../20181114_raw_geo.csv',sep=\",\",low_memory=False)\n",
    "import matplotlib.pyplot as plt\n",
    "import numpy as np\n",
    "import seaborn as sns\n",
    "import math\n",
    "from scipy import stats\n",
    "print(\"imported \" + str(len(raw)) + \" rows\")\n",
    "raw.columns.tolist()"
   ]
  },
  {
   "cell_type": "code",
   "execution_count": 49,
   "metadata": {},
   "outputs": [],
   "source": [
    "plain = raw.copy(deep=True)\n",
    "from datetime import datetime\n",
    "\n",
    "datetime_object = datetime.strptime('2016-11-12 14:01:53',\"%Y-%m-%d %H:%M:%S\")\n",
    "\n"
   ]
  },
  {
   "cell_type": "code",
   "execution_count": 102,
   "metadata": {},
   "outputs": [],
   "source": [
    "#datetime.apply(strptime(plain['published'],\"%Y-%m-%d %H:%M:%S\"))\n",
    "published_date_time = plain.apply(lambda x: datetime.strptime(x['published'],\"%Y-%m-%d %H:%M:%S\"), axis=1)\n",
    "plain['published_date_time'] = published_date_time\n",
    "plain = plain.set_index(['published_date_time'])\n",
    "plain = plain.sort_index()"
   ]
  },
  {
   "cell_type": "code",
   "execution_count": 105,
   "metadata": {},
   "outputs": [
    {
     "data": {
      "text/plain": [
       "published_date_time\n",
       "2007-11-26 00:10:43      NaN\n",
       "2014-02-01 01:05:03      4.0\n",
       "2014-03-20 14:29:02      4.0\n",
       "2014-04-25 20:38:23      3.0\n",
       "2014-05-25 13:47:00      0.5\n",
       "2014-08-27 16:31:56      6.0\n",
       "2014-08-29 16:52:50      5.0\n",
       "2014-09-11 15:10:04      4.0\n",
       "2014-09-19 14:25:01      7.0\n",
       "2014-09-29 23:05:48      2.0\n",
       "2014-10-02 18:18:14      1.0\n",
       "2014-10-03 16:42:26      6.0\n",
       "2014-10-07 18:02:36      4.0\n",
       "2014-10-09 14:27:38      6.0\n",
       "2014-10-13 20:44:09      1.0\n",
       "2014-10-15 20:38:20      6.0\n",
       "2014-10-16 02:38:10      5.0\n",
       "2014-10-16 17:35:48      6.0\n",
       "2014-10-17 17:43:03      6.0\n",
       "2014-10-20 13:55:15      4.0\n",
       "2014-10-21 10:37:58      9.0\n",
       "2014-10-23 13:33:47      4.0\n",
       "2014-10-23 13:33:58      7.0\n",
       "2014-10-24 13:44:29     13.0\n",
       "2014-10-24 16:32:35     19.0\n",
       "2014-10-27 19:32:45      NaN\n",
       "2014-10-29 09:56:20      NaN\n",
       "2014-10-29 16:37:22     -1.0\n",
       "2014-10-29 19:30:57     -1.0\n",
       "2014-10-30 13:34:49      1.0\n",
       "                       ...  \n",
       "2018-11-02 19:35:45    131.5\n",
       "2018-11-02 19:39:19    133.5\n",
       "2018-11-02 19:51:31    134.5\n",
       "2018-11-02 20:03:51    135.5\n",
       "2018-11-02 20:08:37    138.5\n",
       "2018-11-02 20:16:41    139.5\n",
       "2018-11-02 20:19:22    141.5\n",
       "2018-11-02 20:28:40    143.5\n",
       "2018-11-02 20:30:01    144.0\n",
       "2018-11-02 21:34:55    146.0\n",
       "2018-11-02 21:55:19    147.0\n",
       "2018-11-03 01:44:28    148.0\n",
       "2018-11-03 01:57:33    150.0\n",
       "2018-11-03 07:47:31    157.0\n",
       "2018-11-03 09:00:44    152.0\n",
       "2018-11-03 11:09:50    147.0\n",
       "2018-11-03 14:28:31    139.0\n",
       "2018-11-04 13:59:38    100.0\n",
       "2018-11-04 22:24:26     20.0\n",
       "2018-11-04 22:48:34     26.0\n",
       "2018-11-05 14:07:08     17.0\n",
       "2018-11-05 15:52:25     18.0\n",
       "2018-11-05 18:42:51     18.0\n",
       "2018-11-06 01:06:54     20.0\n",
       "2018-11-06 04:28:31     22.0\n",
       "2018-11-07 11:30:12     14.0\n",
       "2018-11-08 16:57:32      8.0\n",
       "2018-11-10 03:00:54      7.0\n",
       "2018-11-10 13:39:25      7.0\n",
       "2018-11-12 16:29:20      3.0\n",
       "Name: floor, Length: 68204, dtype: float64"
      ]
     },
     "execution_count": 105,
     "metadata": {},
     "output_type": "execute_result"
    }
   ],
   "source": [
    "#plain['published']\n",
    "plain['floor'].rolling('2d').sum()\n",
    "#plain['published_date_time']"
   ]
  },
  {
   "cell_type": "code",
   "execution_count": null,
   "metadata": {},
   "outputs": [],
   "source": []
  },
  {
   "cell_type": "code",
   "execution_count": 84,
   "metadata": {},
   "outputs": [
    {
     "data": {
      "text/plain": [
       "NoneType"
      ]
     },
     "execution_count": 84,
     "metadata": {},
     "output_type": "execute_result"
    }
   ],
   "source": [
    "type(ye)"
   ]
  },
  {
   "cell_type": "code",
   "execution_count": null,
   "metadata": {
    "collapsed": true
   },
   "outputs": [],
   "source": []
  },
  {
   "cell_type": "code",
   "execution_count": null,
   "metadata": {
    "collapsed": true
   },
   "outputs": [],
   "source": []
  }
 ],
 "metadata": {
  "kernelspec": {
   "display_name": "Python 3",
   "language": "python",
   "name": "python3"
  },
  "language_info": {
   "codemirror_mode": {
    "name": "ipython",
    "version": 3
   },
   "file_extension": ".py",
   "mimetype": "text/x-python",
   "name": "python",
   "nbconvert_exporter": "python",
   "pygments_lexer": "ipython3",
   "version": "3.6.3"
  }
 },
 "nbformat": 4,
 "nbformat_minor": 2
}
