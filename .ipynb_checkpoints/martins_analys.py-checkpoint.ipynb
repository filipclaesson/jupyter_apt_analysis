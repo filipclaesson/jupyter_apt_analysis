{
 "cells": [
  {
   "cell_type": "code",
   "execution_count": 24,
   "metadata": {},
   "outputs": [],
   "source": [
    "import pandas as pd\n",
    "raw = pd.pandas.read_csv('20170101_raw.csv',sep=\";\")\n",
    "import matplotlib.pyplot as plt"
   ]
  },
  {
   "cell_type": "code",
   "execution_count": 17,
   "metadata": {},
   "outputs": [
    {
     "data": {
      "text/html": [
       "<div>\n",
       "<style>\n",
       "    .dataframe thead tr:only-child th {\n",
       "        text-align: right;\n",
       "    }\n",
       "\n",
       "    .dataframe thead th {\n",
       "        text-align: left;\n",
       "    }\n",
       "\n",
       "    .dataframe tbody tr th {\n",
       "        vertical-align: top;\n",
       "    }\n",
       "</style>\n",
       "<table border=\"1\" class=\"dataframe\">\n",
       "  <thead>\n",
       "    <tr style=\"text-align: right;\">\n",
       "      <th></th>\n",
       "      <th>booli_id</th>\n",
       "      <th>living_area</th>\n",
       "      <th>rooms</th>\n",
       "      <th>floor</th>\n",
       "      <th>rent</th>\n",
       "      <th>list_price</th>\n",
       "      <th>sold_price</th>\n",
       "      <th>construction_year</th>\n",
       "      <th>apartment_number</th>\n",
       "      <th>distance_ocean</th>\n",
       "      <th>source_id</th>\n",
       "      <th>position_longitude</th>\n",
       "      <th>position_latitude</th>\n",
       "      <th>additional_area</th>\n",
       "      <th>plot_area</th>\n",
       "    </tr>\n",
       "  </thead>\n",
       "  <tbody>\n",
       "    <tr>\n",
       "      <th>count</th>\n",
       "      <td>3.329600e+04</td>\n",
       "      <td>33213.000000</td>\n",
       "      <td>33215.000000</td>\n",
       "      <td>28662.000000</td>\n",
       "      <td>31370.000000</td>\n",
       "      <td>3.295900e+04</td>\n",
       "      <td>3.329600e+04</td>\n",
       "      <td>29706.000000</td>\n",
       "      <td>12337.000000</td>\n",
       "      <td>28354.000000</td>\n",
       "      <td>3.329600e+04</td>\n",
       "      <td>33296.000000</td>\n",
       "      <td>33296.000000</td>\n",
       "      <td>10550.000000</td>\n",
       "      <td>5194.000000</td>\n",
       "    </tr>\n",
       "    <tr>\n",
       "      <th>mean</th>\n",
       "      <td>2.612395e+06</td>\n",
       "      <td>66.240562</td>\n",
       "      <td>2.603417</td>\n",
       "      <td>2.840576</td>\n",
       "      <td>3257.869557</td>\n",
       "      <td>3.934973e+06</td>\n",
       "      <td>4.277294e+06</td>\n",
       "      <td>1958.078166</td>\n",
       "      <td>1270.637108</td>\n",
       "      <td>2816.514319</td>\n",
       "      <td>3.026124e+06</td>\n",
       "      <td>18.029666</td>\n",
       "      <td>59.330555</td>\n",
       "      <td>6.886531</td>\n",
       "      <td>262.702118</td>\n",
       "    </tr>\n",
       "    <tr>\n",
       "      <th>std</th>\n",
       "      <td>3.776582e+05</td>\n",
       "      <td>31.917102</td>\n",
       "      <td>1.277586</td>\n",
       "      <td>2.278271</td>\n",
       "      <td>1295.706995</td>\n",
       "      <td>2.365567e+06</td>\n",
       "      <td>2.416759e+06</td>\n",
       "      <td>37.909961</td>\n",
       "      <td>351.154085</td>\n",
       "      <td>1916.457909</td>\n",
       "      <td>1.922185e+07</td>\n",
       "      <td>0.076446</td>\n",
       "      <td>0.039299</td>\n",
       "      <td>20.263457</td>\n",
       "      <td>1294.098513</td>\n",
       "    </tr>\n",
       "    <tr>\n",
       "      <th>min</th>\n",
       "      <td>1.054744e+06</td>\n",
       "      <td>10.000000</td>\n",
       "      <td>1.000000</td>\n",
       "      <td>-3.000000</td>\n",
       "      <td>0.000000</td>\n",
       "      <td>3.200000e+05</td>\n",
       "      <td>3.500000e+05</td>\n",
       "      <td>1400.000000</td>\n",
       "      <td>0.000000</td>\n",
       "      <td>3.000000</td>\n",
       "      <td>1.200000e+01</td>\n",
       "      <td>17.796261</td>\n",
       "      <td>59.231698</td>\n",
       "      <td>0.000000</td>\n",
       "      <td>0.000000</td>\n",
       "    </tr>\n",
       "    <tr>\n",
       "      <th>25%</th>\n",
       "      <td>2.294369e+06</td>\n",
       "      <td>43.500000</td>\n",
       "      <td>2.000000</td>\n",
       "      <td>1.000000</td>\n",
       "      <td>2306.000000</td>\n",
       "      <td>2.475000e+06</td>\n",
       "      <td>2.750000e+06</td>\n",
       "      <td>1932.000000</td>\n",
       "      <td>1102.000000</td>\n",
       "      <td>1233.000000</td>\n",
       "      <td>7.130000e+02</td>\n",
       "      <td>17.983353</td>\n",
       "      <td>59.305195</td>\n",
       "      <td>0.000000</td>\n",
       "      <td>0.000000</td>\n",
       "    </tr>\n",
       "    <tr>\n",
       "      <th>50%</th>\n",
       "      <td>2.388474e+06</td>\n",
       "      <td>60.000000</td>\n",
       "      <td>2.000000</td>\n",
       "      <td>2.000000</td>\n",
       "      <td>3132.000000</td>\n",
       "      <td>3.195000e+06</td>\n",
       "      <td>3.525000e+06</td>\n",
       "      <td>1953.000000</td>\n",
       "      <td>1203.000000</td>\n",
       "      <td>2455.000000</td>\n",
       "      <td>1.566000e+03</td>\n",
       "      <td>18.032287</td>\n",
       "      <td>59.332521</td>\n",
       "      <td>0.000000</td>\n",
       "      <td>0.000000</td>\n",
       "    </tr>\n",
       "    <tr>\n",
       "      <th>75%</th>\n",
       "      <td>3.052387e+06</td>\n",
       "      <td>80.500000</td>\n",
       "      <td>3.000000</td>\n",
       "      <td>4.000000</td>\n",
       "      <td>4065.750000</td>\n",
       "      <td>4.700000e+06</td>\n",
       "      <td>5.025000e+06</td>\n",
       "      <td>1990.000000</td>\n",
       "      <td>1401.000000</td>\n",
       "      <td>4018.000000</td>\n",
       "      <td>1.573000e+03</td>\n",
       "      <td>18.078358</td>\n",
       "      <td>59.352829</td>\n",
       "      <td>0.000000</td>\n",
       "      <td>306.000000</td>\n",
       "    </tr>\n",
       "    <tr>\n",
       "      <th>max</th>\n",
       "      <td>3.164454e+06</td>\n",
       "      <td>491.000000</td>\n",
       "      <td>15.000000</td>\n",
       "      <td>90.500000</td>\n",
       "      <td>14800.000000</td>\n",
       "      <td>5.700000e+07</td>\n",
       "      <td>5.700000e+07</td>\n",
       "      <td>2019.000000</td>\n",
       "      <td>9703.000000</td>\n",
       "      <td>8766.000000</td>\n",
       "      <td>2.694041e+08</td>\n",
       "      <td>18.379601</td>\n",
       "      <td>59.489014</td>\n",
       "      <td>227.000000</td>\n",
       "      <td>86936.000000</td>\n",
       "    </tr>\n",
       "  </tbody>\n",
       "</table>\n",
       "</div>"
      ],
      "text/plain": [
       "           booli_id   living_area         rooms         floor          rent  \\\n",
       "count  3.329600e+04  33213.000000  33215.000000  28662.000000  31370.000000   \n",
       "mean   2.612395e+06     66.240562      2.603417      2.840576   3257.869557   \n",
       "std    3.776582e+05     31.917102      1.277586      2.278271   1295.706995   \n",
       "min    1.054744e+06     10.000000      1.000000     -3.000000      0.000000   \n",
       "25%    2.294369e+06     43.500000      2.000000      1.000000   2306.000000   \n",
       "50%    2.388474e+06     60.000000      2.000000      2.000000   3132.000000   \n",
       "75%    3.052387e+06     80.500000      3.000000      4.000000   4065.750000   \n",
       "max    3.164454e+06    491.000000     15.000000     90.500000  14800.000000   \n",
       "\n",
       "         list_price    sold_price  construction_year  apartment_number  \\\n",
       "count  3.295900e+04  3.329600e+04       29706.000000      12337.000000   \n",
       "mean   3.934973e+06  4.277294e+06        1958.078166       1270.637108   \n",
       "std    2.365567e+06  2.416759e+06          37.909961        351.154085   \n",
       "min    3.200000e+05  3.500000e+05        1400.000000          0.000000   \n",
       "25%    2.475000e+06  2.750000e+06        1932.000000       1102.000000   \n",
       "50%    3.195000e+06  3.525000e+06        1953.000000       1203.000000   \n",
       "75%    4.700000e+06  5.025000e+06        1990.000000       1401.000000   \n",
       "max    5.700000e+07  5.700000e+07        2019.000000       9703.000000   \n",
       "\n",
       "       distance_ocean     source_id  position_longitude  position_latitude  \\\n",
       "count    28354.000000  3.329600e+04        33296.000000       33296.000000   \n",
       "mean      2816.514319  3.026124e+06           18.029666          59.330555   \n",
       "std       1916.457909  1.922185e+07            0.076446           0.039299   \n",
       "min          3.000000  1.200000e+01           17.796261          59.231698   \n",
       "25%       1233.000000  7.130000e+02           17.983353          59.305195   \n",
       "50%       2455.000000  1.566000e+03           18.032287          59.332521   \n",
       "75%       4018.000000  1.573000e+03           18.078358          59.352829   \n",
       "max       8766.000000  2.694041e+08           18.379601          59.489014   \n",
       "\n",
       "       additional_area     plot_area  \n",
       "count     10550.000000   5194.000000  \n",
       "mean          6.886531    262.702118  \n",
       "std          20.263457   1294.098513  \n",
       "min           0.000000      0.000000  \n",
       "25%           0.000000      0.000000  \n",
       "50%           0.000000      0.000000  \n",
       "75%           0.000000    306.000000  \n",
       "max         227.000000  86936.000000  "
      ]
     },
     "execution_count": 17,
     "metadata": {},
     "output_type": "execute_result"
    }
   ],
   "source": [
    "raw.describe()"
   ]
  },
  {
   "cell_type": "code",
   "execution_count": null,
   "metadata": {},
   "outputs": [],
   "source": []
  },
  {
   "cell_type": "code",
   "execution_count": 48,
   "metadata": {},
   "outputs": [
    {
     "name": "stdout",
     "output_type": "stream",
     "text": [
      "living_area\n"
     ]
    },
    {
     "data": {
      "image/png": "[encoded data removed]",
      "text/plain": [
       "<matplotlib.figure.Figure at 0x118aa8160>"
      ]
     },
     "metadata": {},
     "output_type": "display_data"
    },
    {
     "name": "stdout",
     "output_type": "stream",
     "text": [
      "rooms\n"
     ]
    },
    {
     "data": {
      "image/png": "[encoded data removed]",
      "text/plain": [
       "<matplotlib.figure.Figure at 0x1a1ad7b4a8>"
      ]
     },
     "metadata": {},
     "output_type": "display_data"
    },
    {
     "name": "stdout",
     "output_type": "stream",
     "text": [
      "floor\n"
     ]
    },
    {
     "data": {
      "image/png": "[encoded data removed]",
      "text/plain": [
       "<matplotlib.figure.Figure at 0x1a1a89d128>"
      ]
     },
     "metadata": {},
     "output_type": "display_data"
    }
   ],
   "source": [
    "input = ['living_area','rooms','floor']\n",
    "raw[input[0]]\n",
    "\n",
    "for i in input:\n",
    "    print(i)\n",
    "    var1  = raw[i]\n",
    "    plt.show(var1.plot.density())"
   ]
  },
  {
   "cell_type": "code",
   "execution_count": null,
   "metadata": {},
   "outputs": [],
   "source": [
    "#clean_living_area = raw.living_area\n",
    "price_m2 = raw.sold_price/raw.living_area\n",
    "\n"
   ]
  },
  {
   "cell_type": "code",
   "execution_count": null,
   "metadata": {
    "collapsed": true
   },
   "outputs": [],
   "source": []
  }
 ],
 "metadata": {
  "kernelspec": {
   "display_name": "Python 3",
   "language": "python",
   "name": "python3"
  },
  "language_info": {
   "codemirror_mode": {
    "name": "ipython",
    "version": 3
   },
   "file_extension": ".py",
   "mimetype": "text/x-python",
   "name": "python",
   "nbconvert_exporter": "python",
   "pygments_lexer": "ipython3",
   "version": "3.6.3"
  }
 },
 "nbformat": 4,
 "nbformat_minor": 2
}
